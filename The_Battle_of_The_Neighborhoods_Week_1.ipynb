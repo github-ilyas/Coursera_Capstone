{
 "cells": [
  {
   "cell_type": "markdown",
   "metadata": {},
   "source": [
    "# Capstone Project - The Battle of the Neighborhoods (Week 1)\n",
    "### Applied Data Science Capstone by IBM/Coursera"
   ]
  },
  {
   "cell_type": "markdown",
   "metadata": {},
   "source": [
    "## Table of contents\n",
    "* [Introduction](#introduction)\n",
    "    * [Background](#background)\n",
    "    * [Problem Description](#problem)\n",
    "    * [Interest / Target Audience](#interest)\n",
    "    \n",
    "* [Data Acquisition](#data)\n",
    "    * [Borough Crime Data](#data1)\n",
    "    * [Neighborhoods Data](#data2)\n",
    "    * [Neighborhoods Population Data](#data3)\n",
    "    * [Neighborhoods Venues Detail](#data4)"
   ]
  },
  {
   "cell_type": "markdown",
   "metadata": {},
   "source": [
    "## Introduction:<a name=\"introduction\"></a>\n",
    "\n",
    "### Background <a name=\"background\"></a>\n",
    "New York (NY), is the most populated city in the United States with an estimated population of 8.3 M (according to 2019 census data) distributed over about 302.6 square miles (784 km2). Besides its population, it is also been called both the world’s leading financial center and the most financially powerful city in the world. It is the home to the world's two largest stock exchanges by total market capitalization, the New York Stock Exchange and NASDAQ.\n",
    "\n",
    "It has very diversified and multicultural environment which attracts everyone to be part of it. New York is home to the largest ethnic Chinese population outside of Asia, with multiple distinct Chinatowns across the city. Not only for Chinese, this city is the most attractive location in the globe for everyone, especially for migrants and immigrants.\n",
    "\n",
    "Because of its multicultural and financial position, although it provides many opportunities of doing new businesses, but this market is very much volatile and highly competitive also. As the opportunity cost of doing business is very high so any new business venture or expansion needs to be analyzed very carefully.\n",
    "\n",
    "### Problem Description <a name=\"problem\"></a>\n",
    "Beside its multicultural, dynamic and attractive environment, crime rate in some boroughs of NY is also high compare to other boroughs. This project will help the stakeholder to find a comparatively safe and secure location for opening a new business of Grocery Store in New York.\n",
    "\n",
    "First, we will choose the *__safest borough__* by analyzing crime data and then will short list neighborhoods in the safest boroughs having *__low competition but heavy population__*.\n",
    "\n",
    "By making use of our data science tools and analyzing data, most promising neighborhoods in the safest borough will be presented to the stakeholder for their final selection process.\n",
    "\n",
    "### Interest / Target Audience <a name=\"interest\"></a>\n",
    "This project will be of interest for all those stakeholders who are intended to open a new grocery store business in New York."
   ]
  },
  {
   "cell_type": "markdown",
   "metadata": {},
   "source": [
    "***"
   ]
  },
  {
   "cell_type": "markdown",
   "metadata": {},
   "source": [
    "## Data Acquisition: <a name=\"data\"></a>\n",
    "To satisfy our problem description, following are the factors which will influence stakeholder for final decision making.\n",
    "\n",
    "* Finding the safest borough based on crime statistics:\n",
    "* Gathering neighborhoods venues and population data within the safest borough:\n",
    "* Choosing the most promising neighborhoods for final selection.\n",
    "\n",
    "Following data sources will be needed to extract/generate the required information:\n",
    "\n",
    "- **1. Borough Crime Data**<br><a name=\"data1\"></a>\n",
    "To find safest borough, real world data of NYPD complaint records will be collected from NYC Open Data source. This dataset includes all valid felony, misdemeanor, and violation crimes reported to the New York City Police Department (NYPD). The link to dataset which will be used is https://data.cityofnewyork.us/Public-Safety/NYPD-Complaint-Data-Current-Year-To-Date-/5uac-w243\n",
    "\n",
    "\n",
    "- **2. Neighborhoods Data**<br><a name=\"data2\"></a>\n",
    "Neighborhoods in each borough will be collected from open data source dataset. Along with neighborhoods detail this dataset is also contain geolocation of each neighborhood. Out of this dataset, neighborhoods of safest borough will be selected for further analysis based on population and venues. The link to dataset which will be used is https://geo.nyu.edu/catalog/nyu_2451_34572\n",
    "\n",
    "\n",
    "- **3. Neighborhoods Population Data**<br><a name=\"data3\"></a>\n",
    "To make grocery store business successful, population is one of the key features which should be taken into consideration for analysis. For our project, neighborhoods population data will be collected from NYC Open Data Source. This dataset contains 2010 census data at the Neighborhood Tabulation Area (NTA) level. We will use this data along with venues detail to compile our final neighborhoods selection. The link to dataset which will be used is https://data.cityofnewyork.us/City-Government/Census-Demographics-at-the-Neighborhood-Tabulation/rnsn-acs2\n",
    "\n",
    "\n",
    "- **4. Neighborhoods Venues Detail**<br><a name=\"data4\"></a>\n",
    "Neighborhoods geolocation coordinates will be used in *__Foursquare API__* to explore and fetch the venues data.\n",
    "\n",
    "\n",
    "By using above data sources, we will create a new consolidated data frame consist of rank wise suggested neighborhoods detail along with population and venues information."
   ]
  },
  {
   "cell_type": "code",
   "execution_count": null,
   "metadata": {},
   "outputs": [],
   "source": []
  }
 ],
 "metadata": {
  "kernelspec": {
   "display_name": "Python 3",
   "language": "python",
   "name": "python3"
  },
  "language_info": {
   "codemirror_mode": {
    "name": "ipython",
    "version": 3
   },
   "file_extension": ".py",
   "mimetype": "text/x-python",
   "name": "python",
   "nbconvert_exporter": "python",
   "pygments_lexer": "ipython3",
   "version": "3.7.6"
  }
 },
 "nbformat": 4,
 "nbformat_minor": 4
}
